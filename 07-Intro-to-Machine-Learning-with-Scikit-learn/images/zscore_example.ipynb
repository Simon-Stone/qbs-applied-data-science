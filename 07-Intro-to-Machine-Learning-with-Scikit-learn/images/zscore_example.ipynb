{
 "cells": [
  {
   "cell_type": "markdown",
   "metadata": {},
   "source": [
    "# This notebook generates a plot showing the effect of $z$-score normalization"
   ]
  },
  {
   "cell_type": "code",
   "execution_count": null,
   "metadata": {},
   "outputs": [],
   "source": [
    "import numpy as np\n",
    "import matplotlib.pyplot as plt\n",
    "from sklearn.preprocessing import StandardScaler"
   ]
  },
  {
   "cell_type": "code",
   "execution_count": null,
   "metadata": {},
   "outputs": [],
   "source": [
    "import matplotlib as mpl\n",
    "\n",
    "dartmouth_colors = [\"#00693E\", \"#12312B\", \"#C3DD88\", \"#6EAA8D\", \"#797979\", \"#EBF3EF\"]\n",
    "\n",
    "mpl.rcParams.update({\n",
    "                        'figure.facecolor': \"#EBF3EF\",\n",
    "                        'figure.figsize': [7.50, 3.50],\n",
    "                        'axes.prop_cycle': mpl.cycler(color=dartmouth_colors),\n",
    "                        'axes.facecolor': \"#FFFFFF\",\n",
    "                        'axes.labelcolor': '#12312B',\n",
    "                        'text.color': '#12312B',\n",
    "                        'font.family': 'National 2'\n",
    "                    })\n"
   ]
  },
  {
   "cell_type": "code",
   "execution_count": null,
   "metadata": {},
   "outputs": [],
   "source": [
    "np.random.seed(42)\n",
    "X_l = np.random.normal(loc=1500, scale=250, size=(100,))\n",
    "np.random.seed(42)\n",
    "X_s = np.random.normal(loc=15, scale=2.5, size=(100,))\n",
    "X_lz = StandardScaler().fit_transform(X_l.reshape(-1, 1))\n",
    "X_sz = StandardScaler().fit_transform(X_s.reshape(-1, 1))"
   ]
  },
  {
   "cell_type": "code",
   "execution_count": null,
   "metadata": {},
   "outputs": [],
   "source": [
    "fig, ax = plt.subplots(2, 2, figsize=(5, 3))\n",
    "ax[0][0].hist(X_l)\n",
    "ax[0][1].hist(X_lz)\n",
    "ax[1][0].hist(X_s)\n",
    "ax[1][1].hist(X_sz)\n",
    "ax[1][0].set(xlabel='$X$ (original scale)')\n",
    "ax[1][1].set(xlabel='$z$-score of $X$')\n",
    "ax[0][0].set(ylabel='Count')\n",
    "ax[1][0].set(ylabel='Count')\n",
    "fig.tight_layout()\n",
    "fig.savefig('zscore_histograms.svg', format='svg')"
   ]
  },
  {
   "cell_type": "code",
   "execution_count": null,
   "metadata": {},
   "outputs": [],
   "source": [
    "plt.scatter(x=X_l[42], y=X_s[42])\n",
    "plt.xlim([1000, 2000])\n",
    "plt.ylim([10, 20])\n",
    "\n",
    "plt.xlabel('$X$ on large scale')\n",
    "plt.ylabel('$X$ on small scale')\n",
    "\n",
    "plt.scatter(x=X_l[42]-X_l.std(), y=X_s[42])\n",
    "plt.scatter(x=X_l[42], y=X_s[42]+X_s.std())\n",
    "\n",
    "plt.gcf().set_size_inches(5, 5)\n",
    "\n",
    "# annotation of the third point\n",
    "plt.text(X_l[42]-X_l.std()+10,X_s[42]+.15,\"$A$\")\n",
    "plt.text(X_l[42]+10,X_s[42]+.15,\"$X$\")\n",
    "plt.text(X_l[42]+10,X_s[42]+X_s.std()+.15,\"$B$\")\n",
    "\n",
    "plt.gca().secondary_xaxis('top', functions=(lambda x: (x - X_l.mean()) / X_l.std(), lambda x: (x - X_l.mean()) / X_l.std())).set_xlabel('$z$-score of large-scale $X$')\n",
    "plt.gca().secondary_yaxis('right', functions=(lambda x: (x - X_s.mean()) / X_s.std(), lambda x: (x - X_s.mean()) / X_s.std())).set_ylabel('$z$-score of small-scale $X$')\n",
    "plt.gcf().tight_layout()\n",
    "plt.gcf().savefig('zscore_distance.svg', format='svg')"
   ]
  },
  {
   "cell_type": "code",
   "execution_count": null,
   "metadata": {},
   "outputs": [],
   "source": [
    "from sklearn.metrics.pairwise import euclidean_distances\n",
    "\n",
    "d = euclidean_distances(X=[[X_l[42]-X_l.std(), X_s[42]], [X_l[42], X_s[42]+X_s.std()]],\n",
    "                        Y=[[X_l[42], X_s[42]]])\n",
    "\n",
    "print(f'The Euclidean distance of point A to point X is {d[0]}.\\nThe Euclidean distance of point B to point X is {d[1]}.')"
   ]
  },
  {
   "cell_type": "code",
   "execution_count": null,
   "metadata": {},
   "outputs": [],
   "source": [
    "d = euclidean_distances(X=[[X_lz[42][0]-1, X_sz[42][0]], [X_lz[42][0], X_sz[42][0]+1]],\n",
    "                        Y=[[X_lz[42][0], X_sz[42][0]]])\n",
    "print(f'The Euclidean distance of point A to point X is {d[0]}.\\nThe Euclidean distance of point B to point X is {d[1]}.')"
   ]
  },
  {
   "cell_type": "code",
   "execution_count": null,
   "metadata": {},
   "outputs": [],
   "source": []
  }
 ],
 "metadata": {
  "kernelspec": {
   "display_name": "Python 3.10.8 64-bit",
   "language": "python",
   "name": "python3"
  },
  "language_info": {
   "codemirror_mode": {
    "name": "ipython",
    "version": 3
   },
   "file_extension": ".py",
   "mimetype": "text/x-python",
   "name": "python",
   "nbconvert_exporter": "python",
   "pygments_lexer": "ipython3",
   "version": "3.10.8"
  },
  "vscode": {
   "interpreter": {
    "hash": "aee8b7b246df8f9039afb4144a1f6fd8d2ca17a180786b69acc140d282b71a49"
   }
  }
 },
 "nbformat": 4,
 "nbformat_minor": 2
}
